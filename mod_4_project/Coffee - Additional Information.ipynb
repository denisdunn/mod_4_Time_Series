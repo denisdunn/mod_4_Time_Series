{
 "cells": [
  {
   "cell_type": "code",
   "execution_count": 112,
   "metadata": {},
   "outputs": [],
   "source": [
    "import pandas as pd\n",
    "import matplotlib.pyplot as plt\n",
    "%matplotlib inline"
   ]
  },
  {
   "cell_type": "code",
   "execution_count": 113,
   "metadata": {},
   "outputs": [],
   "source": [
    "#import data set with coffee prices\n",
    "ts_ico = pd.read_excel('Files/ICO composite and group indicator prices -US cents - LB.xlsx')"
   ]
  },
  {
   "cell_type": "code",
   "execution_count": 114,
   "metadata": {},
   "outputs": [],
   "source": [
    "#cut the beginning of the list to fit with the time frame of other variables\n",
    "ts_ico = ts_ico[12:]"
   ]
  },
  {
   "cell_type": "code",
   "execution_count": 115,
   "metadata": {},
   "outputs": [
    {
     "data": {
      "text/html": [
       "<div>\n",
       "<style scoped>\n",
       "    .dataframe tbody tr th:only-of-type {\n",
       "        vertical-align: middle;\n",
       "    }\n",
       "\n",
       "    .dataframe tbody tr th {\n",
       "        vertical-align: top;\n",
       "    }\n",
       "\n",
       "    .dataframe thead th {\n",
       "        text-align: right;\n",
       "    }\n",
       "</style>\n",
       "<table border=\"1\" class=\"dataframe\">\n",
       "  <thead>\n",
       "    <tr style=\"text-align: right;\">\n",
       "      <th></th>\n",
       "      <th>Unnamed: 0</th>\n",
       "      <th>ICO composite indicator</th>\n",
       "      <th>Colombian\n",
       " Milds</th>\n",
       "      <th>Other Milds</th>\n",
       "      <th>Brazilian\n",
       " Naturals</th>\n",
       "      <th>Robustas</th>\n",
       "    </tr>\n",
       "  </thead>\n",
       "  <tbody>\n",
       "    <tr>\n",
       "      <th>12</th>\n",
       "      <td>1991-01-01</td>\n",
       "      <td>69.38</td>\n",
       "      <td>91.55</td>\n",
       "      <td>85.93</td>\n",
       "      <td>75.59</td>\n",
       "      <td>52.83</td>\n",
       "    </tr>\n",
       "    <tr>\n",
       "      <th>13</th>\n",
       "      <td>1991-02-01</td>\n",
       "      <td>70.55</td>\n",
       "      <td>94.21</td>\n",
       "      <td>89.21</td>\n",
       "      <td>79.39</td>\n",
       "      <td>51.87</td>\n",
       "    </tr>\n",
       "    <tr>\n",
       "      <th>14</th>\n",
       "      <td>1991-03-01</td>\n",
       "      <td>72.47</td>\n",
       "      <td>99.36</td>\n",
       "      <td>93.56</td>\n",
       "      <td>83.83</td>\n",
       "      <td>51.37</td>\n",
       "    </tr>\n",
       "  </tbody>\n",
       "</table>\n",
       "</div>"
      ],
      "text/plain": [
       "   Unnamed: 0  ICO composite indicator  Colombian\\n Milds  Other Milds  \\\n",
       "12 1991-01-01                    69.38              91.55        85.93   \n",
       "13 1991-02-01                    70.55              94.21        89.21   \n",
       "14 1991-03-01                    72.47              99.36        93.56   \n",
       "\n",
       "    Brazilian\\n Naturals  Robustas  \n",
       "12                 75.59     52.83  \n",
       "13                 79.39     51.87  \n",
       "14                 83.83     51.37  "
      ]
     },
     "execution_count": 115,
     "metadata": {},
     "output_type": "execute_result"
    }
   ],
   "source": [
    "ts_ico.head(3)"
   ]
  },
  {
   "cell_type": "code",
   "execution_count": 116,
   "metadata": {},
   "outputs": [],
   "source": [
    "ts_ico.rename(columns={'Unnamed: 0':'Date'}, inplace=True)"
   ]
  },
  {
   "cell_type": "code",
   "execution_count": 117,
   "metadata": {},
   "outputs": [],
   "source": [
    "ts_ico = ts_ico.set_index('Date')"
   ]
  },
  {
   "cell_type": "code",
   "execution_count": 118,
   "metadata": {},
   "outputs": [
    {
     "data": {
      "text/html": [
       "<div>\n",
       "<style scoped>\n",
       "    .dataframe tbody tr th:only-of-type {\n",
       "        vertical-align: middle;\n",
       "    }\n",
       "\n",
       "    .dataframe tbody tr th {\n",
       "        vertical-align: top;\n",
       "    }\n",
       "\n",
       "    .dataframe thead th {\n",
       "        text-align: right;\n",
       "    }\n",
       "</style>\n",
       "<table border=\"1\" class=\"dataframe\">\n",
       "  <thead>\n",
       "    <tr style=\"text-align: right;\">\n",
       "      <th></th>\n",
       "      <th>Close</th>\n",
       "    </tr>\n",
       "    <tr>\n",
       "      <th>Date</th>\n",
       "      <th></th>\n",
       "    </tr>\n",
       "  </thead>\n",
       "  <tbody>\n",
       "    <tr>\n",
       "      <th>2019-01-31</th>\n",
       "      <td>24.420952</td>\n",
       "    </tr>\n",
       "    <tr>\n",
       "      <th>2019-02-28</th>\n",
       "      <td>24.236316</td>\n",
       "    </tr>\n",
       "    <tr>\n",
       "      <th>2019-03-31</th>\n",
       "      <td>22.580476</td>\n",
       "    </tr>\n",
       "    <tr>\n",
       "      <th>2019-04-30</th>\n",
       "      <td>20.404286</td>\n",
       "    </tr>\n",
       "    <tr>\n",
       "      <th>2019-05-31</th>\n",
       "      <td>19.100556</td>\n",
       "    </tr>\n",
       "  </tbody>\n",
       "</table>\n",
       "</div>"
      ],
      "text/plain": [
       "                Close\n",
       "Date                 \n",
       "2019-01-31  24.420952\n",
       "2019-02-28  24.236316\n",
       "2019-03-31  22.580476\n",
       "2019-04-30  20.404286\n",
       "2019-05-31  19.100556"
      ]
     },
     "execution_count": 118,
     "metadata": {},
     "output_type": "execute_result"
    }
   ],
   "source": [
    "#import our target variable - Farm brother stock price\n",
    "ts_farm = pd.read_csv('Files/FARM.csv')\n",
    "ts_farm = ts_farm.iloc[2476:]\n",
    "ts_farm.Date = pd.to_datetime(ts_farm.Date)\n",
    "ts_farm.set_index('Date', inplace=True)\n",
    "ts_farm = ts_farm.resample('M').mean()\n",
    "ts_farm = ts_farm.iloc[12:]\n",
    "ts_farm.tail()"
   ]
  },
  {
   "cell_type": "code",
   "execution_count": 119,
   "metadata": {},
   "outputs": [],
   "source": [
    "#add the values to joint table\n",
    "ts_ico['Target'] = ts_farm['Close'].values\n"
   ]
  },
  {
   "cell_type": "code",
   "execution_count": 120,
   "metadata": {},
   "outputs": [
    {
     "name": "stdout",
     "output_type": "stream",
     "text": [
      "<class 'pandas.core.frame.DataFrame'>\n",
      "DatetimeIndex: 341 entries, 1991-01-01 to 2019-05-01\n",
      "Data columns (total 6 columns):\n",
      "ICO composite indicator    341 non-null float64\n",
      "Colombian\n",
      " Milds           341 non-null float64\n",
      "Other Milds                341 non-null float64\n",
      "Brazilian\n",
      " Naturals        341 non-null float64\n",
      "Robustas                   341 non-null float64\n",
      "Target                     341 non-null float64\n",
      "dtypes: float64(6)\n",
      "memory usage: 18.6 KB\n"
     ]
    }
   ],
   "source": [
    "ts_ico.info()"
   ]
  },
  {
   "cell_type": "code",
   "execution_count": 121,
   "metadata": {},
   "outputs": [
    {
     "data": {
      "text/html": [
       "<div>\n",
       "<style scoped>\n",
       "    .dataframe tbody tr th:only-of-type {\n",
       "        vertical-align: middle;\n",
       "    }\n",
       "\n",
       "    .dataframe tbody tr th {\n",
       "        vertical-align: top;\n",
       "    }\n",
       "\n",
       "    .dataframe thead th {\n",
       "        text-align: right;\n",
       "    }\n",
       "</style>\n",
       "<table border=\"1\" class=\"dataframe\">\n",
       "  <thead>\n",
       "    <tr style=\"text-align: right;\">\n",
       "      <th></th>\n",
       "      <th>Rainfall - (MM)</th>\n",
       "      <th>Year</th>\n",
       "      <th>Month</th>\n",
       "      <th>Country</th>\n",
       "      <th>ISO3</th>\n",
       "    </tr>\n",
       "  </thead>\n",
       "  <tbody>\n",
       "    <tr>\n",
       "      <th>0</th>\n",
       "      <td>66.1624</td>\n",
       "      <td>1991</td>\n",
       "      <td>Jan</td>\n",
       "      <td>Colombia</td>\n",
       "      <td>COL</td>\n",
       "    </tr>\n",
       "    <tr>\n",
       "      <th>1</th>\n",
       "      <td>77.9094</td>\n",
       "      <td>1991</td>\n",
       "      <td>Feb</td>\n",
       "      <td>Colombia</td>\n",
       "      <td>COL</td>\n",
       "    </tr>\n",
       "    <tr>\n",
       "      <th>2</th>\n",
       "      <td>235.8180</td>\n",
       "      <td>1991</td>\n",
       "      <td>Mar</td>\n",
       "      <td>Colombia</td>\n",
       "      <td>COL</td>\n",
       "    </tr>\n",
       "  </tbody>\n",
       "</table>\n",
       "</div>"
      ],
      "text/plain": [
       "   Rainfall - (MM)   Year  Month    Country  ISO3\n",
       "0          66.1624   1991    Jan   Colombia   COL\n",
       "1          77.9094   1991    Feb   Colombia   COL\n",
       "2         235.8180   1991    Mar   Colombia   COL"
      ]
     },
     "execution_count": 121,
     "metadata": {},
     "output_type": "execute_result"
    }
   ],
   "source": [
    "#import historical rain data from columbia\n",
    "ts_rain =  pd.read_csv('Files/rain_fall_columbia.csv')\n",
    "ts_rain.head(3)"
   ]
  },
  {
   "cell_type": "code",
   "execution_count": 122,
   "metadata": {},
   "outputs": [],
   "source": [
    "#adding the values to the joint table\n",
    "ts_ico['Rainfall - (MM)'] = ts_rain['Rainfall - (MM)'].values"
   ]
  },
  {
   "cell_type": "code",
   "execution_count": 123,
   "metadata": {},
   "outputs": [
    {
     "data": {
      "text/html": [
       "<div>\n",
       "<style scoped>\n",
       "    .dataframe tbody tr th:only-of-type {\n",
       "        vertical-align: middle;\n",
       "    }\n",
       "\n",
       "    .dataframe tbody tr th {\n",
       "        vertical-align: top;\n",
       "    }\n",
       "\n",
       "    .dataframe thead th {\n",
       "        text-align: right;\n",
       "    }\n",
       "</style>\n",
       "<table border=\"1\" class=\"dataframe\">\n",
       "  <thead>\n",
       "    <tr style=\"text-align: right;\">\n",
       "      <th></th>\n",
       "      <th>Date</th>\n",
       "      <th>Bond _Value</th>\n",
       "    </tr>\n",
       "  </thead>\n",
       "  <tbody>\n",
       "    <tr>\n",
       "      <th>0</th>\n",
       "      <td>1/2/1990</td>\n",
       "      <td>7.94</td>\n",
       "    </tr>\n",
       "    <tr>\n",
       "      <th>1</th>\n",
       "      <td>1/3/1990</td>\n",
       "      <td>7.99</td>\n",
       "    </tr>\n",
       "    <tr>\n",
       "      <th>2</th>\n",
       "      <td>1/4/1990</td>\n",
       "      <td>7.98</td>\n",
       "    </tr>\n",
       "  </tbody>\n",
       "</table>\n",
       "</div>"
      ],
      "text/plain": [
       "       Date  Bond _Value\n",
       "0  1/2/1990         7.94\n",
       "1  1/3/1990         7.99\n",
       "2  1/4/1990         7.98"
      ]
     },
     "execution_count": 123,
     "metadata": {},
     "output_type": "execute_result"
    }
   ],
   "source": [
    "#import US bonds data\n",
    "ts_bond = pd.read_csv('Files/bonds.csv')\n",
    "ts_bond.head(3)"
   ]
  },
  {
   "cell_type": "code",
   "execution_count": 124,
   "metadata": {},
   "outputs": [
    {
     "data": {
      "text/plain": [
       "7408"
      ]
     },
     "execution_count": 124,
     "metadata": {},
     "output_type": "execute_result"
    }
   ],
   "source": [
    "len(ts_bond)"
   ]
  },
  {
   "cell_type": "code",
   "execution_count": 125,
   "metadata": {},
   "outputs": [
    {
     "data": {
      "text/plain": [
       "Date            0\n",
       "Bond _Value    27\n",
       "dtype: int64"
      ]
     },
     "execution_count": 125,
     "metadata": {},
     "output_type": "execute_result"
    }
   ],
   "source": [
    "#checking for null values\n",
    "ts_bond.isnull().sum()"
   ]
  },
  {
   "cell_type": "code",
   "execution_count": 126,
   "metadata": {},
   "outputs": [
    {
     "data": {
      "text/plain": [
       "Date           0\n",
       "Bond _Value    0\n",
       "dtype: int64"
      ]
     },
     "execution_count": 126,
     "metadata": {},
     "output_type": "execute_result"
    }
   ],
   "source": [
    "#filling the null vaues with the value of the previous day\n",
    "ts_bond.fillna(method='ffill', inplace = True)\n",
    "ts_bond.isnull().sum()"
   ]
  },
  {
   "cell_type": "code",
   "execution_count": 127,
   "metadata": {},
   "outputs": [],
   "source": [
    "ts_bond.Date = pd.to_datetime(ts_bond.Date)"
   ]
  },
  {
   "cell_type": "code",
   "execution_count": 128,
   "metadata": {},
   "outputs": [],
   "source": [
    "ts_bond = ts_bond.set_index('Date')"
   ]
  },
  {
   "cell_type": "code",
   "execution_count": 129,
   "metadata": {},
   "outputs": [],
   "source": [
    "#resample the data to months form\n",
    "ts_bond  = ts_bond.resample('M').mean()"
   ]
  },
  {
   "cell_type": "code",
   "execution_count": 130,
   "metadata": {},
   "outputs": [
    {
     "data": {
      "text/plain": [
       "353"
      ]
     },
     "execution_count": 130,
     "metadata": {},
     "output_type": "execute_result"
    }
   ],
   "source": [
    "len (ts_bond)"
   ]
  },
  {
   "cell_type": "code",
   "execution_count": 131,
   "metadata": {},
   "outputs": [],
   "source": [
    "#fitting the length to the other variables\n",
    "ts_bond = ts_bond.iloc[12:]"
   ]
  },
  {
   "cell_type": "code",
   "execution_count": 132,
   "metadata": {},
   "outputs": [],
   "source": [
    "#adding the values to the joint table\n",
    "ts_ico['Bond _Value'] = ts_bond['Bond _Value'].values"
   ]
  },
  {
   "cell_type": "code",
   "execution_count": 133,
   "metadata": {},
   "outputs": [
    {
     "data": {
      "text/html": [
       "<div>\n",
       "<style scoped>\n",
       "    .dataframe tbody tr th:only-of-type {\n",
       "        vertical-align: middle;\n",
       "    }\n",
       "\n",
       "    .dataframe tbody tr th {\n",
       "        vertical-align: top;\n",
       "    }\n",
       "\n",
       "    .dataframe thead th {\n",
       "        text-align: right;\n",
       "    }\n",
       "</style>\n",
       "<table border=\"1\" class=\"dataframe\">\n",
       "  <thead>\n",
       "    <tr style=\"text-align: right;\">\n",
       "      <th></th>\n",
       "      <th>ICO composite indicator</th>\n",
       "      <th>Colombian\n",
       " Milds</th>\n",
       "      <th>Other Milds</th>\n",
       "      <th>Brazilian\n",
       " Naturals</th>\n",
       "      <th>Robustas</th>\n",
       "      <th>Target</th>\n",
       "      <th>Rainfall - (MM)</th>\n",
       "      <th>Bond _Value</th>\n",
       "    </tr>\n",
       "    <tr>\n",
       "      <th>Date</th>\n",
       "      <th></th>\n",
       "      <th></th>\n",
       "      <th></th>\n",
       "      <th></th>\n",
       "      <th></th>\n",
       "      <th></th>\n",
       "      <th></th>\n",
       "      <th></th>\n",
       "    </tr>\n",
       "  </thead>\n",
       "  <tbody>\n",
       "    <tr>\n",
       "      <th>1991-01-01</th>\n",
       "      <td>69.38</td>\n",
       "      <td>91.55</td>\n",
       "      <td>85.93</td>\n",
       "      <td>75.59</td>\n",
       "      <td>52.83</td>\n",
       "      <td>8.203409</td>\n",
       "      <td>66.1624</td>\n",
       "      <td>8.090000</td>\n",
       "    </tr>\n",
       "    <tr>\n",
       "      <th>1991-02-01</th>\n",
       "      <td>70.55</td>\n",
       "      <td>94.21</td>\n",
       "      <td>89.21</td>\n",
       "      <td>79.39</td>\n",
       "      <td>51.87</td>\n",
       "      <td>8.810526</td>\n",
       "      <td>77.9094</td>\n",
       "      <td>7.854737</td>\n",
       "    </tr>\n",
       "  </tbody>\n",
       "</table>\n",
       "</div>"
      ],
      "text/plain": [
       "            ICO composite indicator  Colombian\\n Milds  Other Milds  \\\n",
       "Date                                                                  \n",
       "1991-01-01                    69.38              91.55        85.93   \n",
       "1991-02-01                    70.55              94.21        89.21   \n",
       "\n",
       "            Brazilian\\n Naturals  Robustas    Target  Rainfall - (MM)  \\\n",
       "Date                                                                    \n",
       "1991-01-01                 75.59     52.83  8.203409          66.1624   \n",
       "1991-02-01                 79.39     51.87  8.810526          77.9094   \n",
       "\n",
       "            Bond _Value  \n",
       "Date                     \n",
       "1991-01-01     8.090000  \n",
       "1991-02-01     7.854737  "
      ]
     },
     "execution_count": 133,
     "metadata": {},
     "output_type": "execute_result"
    }
   ],
   "source": [
    "ts_ico.head(2)"
   ]
  },
  {
   "cell_type": "code",
   "execution_count": 134,
   "metadata": {},
   "outputs": [],
   "source": [
    "#importing tea price data from the Mombasa/Nairobi auctions\n",
    "ts_tea = pd.read_excel('Files/Tea Prices.xlsx')\n",
    "#price is per kilo. changing to pound and than to cents\n",
    "ts_tea['Price'] = ts_tea['Price'] * 0.4535 *100\n",
    "ts_tea.rename(columns = {'Price':'Tea_Price_Mombasa_Nairobi_auctions)'}, inplace=True)\n",
    "ts_tea.set_index('Month', inplace=True)"
   ]
  },
  {
   "cell_type": "code",
   "execution_count": 135,
   "metadata": {},
   "outputs": [],
   "source": [
    "#fitting the length to the other variables\n",
    "ts_tea = ts_tea.iloc[21:]"
   ]
  },
  {
   "cell_type": "code",
   "execution_count": 136,
   "metadata": {},
   "outputs": [
    {
     "data": {
      "text/html": [
       "<div>\n",
       "<style scoped>\n",
       "    .dataframe tbody tr th:only-of-type {\n",
       "        vertical-align: middle;\n",
       "    }\n",
       "\n",
       "    .dataframe tbody tr th {\n",
       "        vertical-align: top;\n",
       "    }\n",
       "\n",
       "    .dataframe thead th {\n",
       "        text-align: right;\n",
       "    }\n",
       "</style>\n",
       "<table border=\"1\" class=\"dataframe\">\n",
       "  <thead>\n",
       "    <tr style=\"text-align: right;\">\n",
       "      <th></th>\n",
       "      <th>Tea_Price_Mombasa_Nairobi_auctions)</th>\n",
       "    </tr>\n",
       "    <tr>\n",
       "      <th>Month</th>\n",
       "      <th></th>\n",
       "    </tr>\n",
       "  </thead>\n",
       "  <tbody>\n",
       "    <tr>\n",
       "      <th>1991-01-01</th>\n",
       "      <td>70.2925</td>\n",
       "    </tr>\n",
       "    <tr>\n",
       "      <th>1991-02-01</th>\n",
       "      <td>67.1180</td>\n",
       "    </tr>\n",
       "  </tbody>\n",
       "</table>\n",
       "</div>"
      ],
      "text/plain": [
       "            Tea_Price_Mombasa_Nairobi_auctions)\n",
       "Month                                          \n",
       "1991-01-01                              70.2925\n",
       "1991-02-01                              67.1180"
      ]
     },
     "execution_count": 136,
     "metadata": {},
     "output_type": "execute_result"
    }
   ],
   "source": [
    "ts_tea.head(2)"
   ]
  },
  {
   "cell_type": "code",
   "execution_count": 137,
   "metadata": {},
   "outputs": [],
   "source": [
    "#adding the values to the joint table\n",
    "ts_ico['Tea_Price'] = ts_tea['Tea_Price_Mombasa_Nairobi_auctions)'].values"
   ]
  },
  {
   "cell_type": "code",
   "execution_count": 138,
   "metadata": {},
   "outputs": [
    {
     "data": {
      "text/html": [
       "<div>\n",
       "<style scoped>\n",
       "    .dataframe tbody tr th:only-of-type {\n",
       "        vertical-align: middle;\n",
       "    }\n",
       "\n",
       "    .dataframe tbody tr th {\n",
       "        vertical-align: top;\n",
       "    }\n",
       "\n",
       "    .dataframe thead th {\n",
       "        text-align: right;\n",
       "    }\n",
       "</style>\n",
       "<table border=\"1\" class=\"dataframe\">\n",
       "  <thead>\n",
       "    <tr style=\"text-align: right;\">\n",
       "      <th></th>\n",
       "      <th>Date</th>\n",
       "      <th>Close</th>\n",
       "    </tr>\n",
       "  </thead>\n",
       "  <tbody>\n",
       "    <tr>\n",
       "      <th>0</th>\n",
       "      <td>6/26/1992</td>\n",
       "      <td>0.335938</td>\n",
       "    </tr>\n",
       "    <tr>\n",
       "      <th>1</th>\n",
       "      <td>6/29/1992</td>\n",
       "      <td>0.359375</td>\n",
       "    </tr>\n",
       "    <tr>\n",
       "      <th>2</th>\n",
       "      <td>6/30/1992</td>\n",
       "      <td>0.347656</td>\n",
       "    </tr>\n",
       "  </tbody>\n",
       "</table>\n",
       "</div>"
      ],
      "text/plain": [
       "        Date     Close\n",
       "0  6/26/1992  0.335938\n",
       "1  6/29/1992  0.359375\n",
       "2  6/30/1992  0.347656"
      ]
     },
     "execution_count": 138,
     "metadata": {},
     "output_type": "execute_result"
    }
   ],
   "source": [
    "#umport Starbucks stock data\n",
    "ts_sb = pd.read_csv('Files/SBUX.csv')\n",
    "ts_sb.head(3)"
   ]
  },
  {
   "cell_type": "code",
   "execution_count": 139,
   "metadata": {},
   "outputs": [],
   "source": [
    "ts_sb['Date'] = pd.to_datetime(ts_sb['Date'])"
   ]
  },
  {
   "cell_type": "code",
   "execution_count": 140,
   "metadata": {},
   "outputs": [],
   "source": [
    "ts_sb = ts_sb.set_index('Date')"
   ]
  },
  {
   "cell_type": "code",
   "execution_count": 141,
   "metadata": {},
   "outputs": [],
   "source": [
    "#resample the data to months form\n",
    "ts_sb = ts_sb.resample('M').mean()"
   ]
  },
  {
   "cell_type": "code",
   "execution_count": 142,
   "metadata": {},
   "outputs": [
    {
     "data": {
      "text/html": [
       "<div>\n",
       "<style scoped>\n",
       "    .dataframe tbody tr th:only-of-type {\n",
       "        vertical-align: middle;\n",
       "    }\n",
       "\n",
       "    .dataframe tbody tr th {\n",
       "        vertical-align: top;\n",
       "    }\n",
       "\n",
       "    .dataframe thead th {\n",
       "        text-align: right;\n",
       "    }\n",
       "</style>\n",
       "<table border=\"1\" class=\"dataframe\">\n",
       "  <thead>\n",
       "    <tr style=\"text-align: right;\">\n",
       "      <th></th>\n",
       "      <th>Close</th>\n",
       "    </tr>\n",
       "    <tr>\n",
       "      <th>Date</th>\n",
       "      <th></th>\n",
       "    </tr>\n",
       "  </thead>\n",
       "  <tbody>\n",
       "    <tr>\n",
       "      <th>1992-06-30</th>\n",
       "      <td>0.347656</td>\n",
       "    </tr>\n",
       "  </tbody>\n",
       "</table>\n",
       "</div>"
      ],
      "text/plain": [
       "               Close\n",
       "Date                \n",
       "1992-06-30  0.347656"
      ]
     },
     "execution_count": 142,
     "metadata": {},
     "output_type": "execute_result"
    }
   ],
   "source": [
    "ts_sb.head(1)"
   ]
  },
  {
   "cell_type": "code",
   "execution_count": 143,
   "metadata": {},
   "outputs": [],
   "source": [
    "ts_ico = ts_ico.iloc[17:]"
   ]
  },
  {
   "cell_type": "code",
   "execution_count": 144,
   "metadata": {},
   "outputs": [],
   "source": [
    "ts_ico['Starbucks'] = ts_sb['Close'].values"
   ]
  },
  {
   "cell_type": "code",
   "execution_count": 145,
   "metadata": {},
   "outputs": [
    {
     "data": {
      "text/html": [
       "<div>\n",
       "<style scoped>\n",
       "    .dataframe tbody tr th:only-of-type {\n",
       "        vertical-align: middle;\n",
       "    }\n",
       "\n",
       "    .dataframe tbody tr th {\n",
       "        vertical-align: top;\n",
       "    }\n",
       "\n",
       "    .dataframe thead th {\n",
       "        text-align: right;\n",
       "    }\n",
       "</style>\n",
       "<table border=\"1\" class=\"dataframe\">\n",
       "  <thead>\n",
       "    <tr style=\"text-align: right;\">\n",
       "      <th></th>\n",
       "      <th>ICO composite indicator</th>\n",
       "      <th>Colombian\n",
       " Milds</th>\n",
       "      <th>Other Milds</th>\n",
       "      <th>Brazilian\n",
       " Naturals</th>\n",
       "      <th>Robustas</th>\n",
       "      <th>Target</th>\n",
       "      <th>Rainfall - (MM)</th>\n",
       "      <th>Bond _Value</th>\n",
       "      <th>Tea_Price</th>\n",
       "      <th>Starbucks</th>\n",
       "    </tr>\n",
       "    <tr>\n",
       "      <th>Date</th>\n",
       "      <th></th>\n",
       "      <th></th>\n",
       "      <th></th>\n",
       "      <th></th>\n",
       "      <th></th>\n",
       "      <th></th>\n",
       "      <th></th>\n",
       "      <th></th>\n",
       "      <th></th>\n",
       "      <th></th>\n",
       "    </tr>\n",
       "  </thead>\n",
       "  <tbody>\n",
       "    <tr>\n",
       "      <th>1992-06-01</th>\n",
       "      <td>48.13</td>\n",
       "      <td>64.10</td>\n",
       "      <td>59.09</td>\n",
       "      <td>49.08</td>\n",
       "      <td>37.17</td>\n",
       "      <td>11.820455</td>\n",
       "      <td>194.595</td>\n",
       "      <td>7.261818</td>\n",
       "      <td>76.188</td>\n",
       "      <td>0.347656</td>\n",
       "    </tr>\n",
       "    <tr>\n",
       "      <th>1992-07-01</th>\n",
       "      <td>48.70</td>\n",
       "      <td>62.50</td>\n",
       "      <td>58.20</td>\n",
       "      <td>48.53</td>\n",
       "      <td>39.19</td>\n",
       "      <td>11.572727</td>\n",
       "      <td>249.382</td>\n",
       "      <td>6.844545</td>\n",
       "      <td>79.816</td>\n",
       "      <td>0.399325</td>\n",
       "    </tr>\n",
       "    <tr>\n",
       "      <th>1992-08-01</th>\n",
       "      <td>45.89</td>\n",
       "      <td>56.49</td>\n",
       "      <td>52.93</td>\n",
       "      <td>46.40</td>\n",
       "      <td>38.85</td>\n",
       "      <td>11.558929</td>\n",
       "      <td>217.829</td>\n",
       "      <td>6.585714</td>\n",
       "      <td>81.630</td>\n",
       "      <td>0.399833</td>\n",
       "    </tr>\n",
       "  </tbody>\n",
       "</table>\n",
       "</div>"
      ],
      "text/plain": [
       "            ICO composite indicator  Colombian\\n Milds  Other Milds  \\\n",
       "Date                                                                  \n",
       "1992-06-01                    48.13              64.10        59.09   \n",
       "1992-07-01                    48.70              62.50        58.20   \n",
       "1992-08-01                    45.89              56.49        52.93   \n",
       "\n",
       "            Brazilian\\n Naturals  Robustas     Target  Rainfall - (MM)  \\\n",
       "Date                                                                     \n",
       "1992-06-01                 49.08     37.17  11.820455          194.595   \n",
       "1992-07-01                 48.53     39.19  11.572727          249.382   \n",
       "1992-08-01                 46.40     38.85  11.558929          217.829   \n",
       "\n",
       "            Bond _Value  Tea_Price  Starbucks  \n",
       "Date                                           \n",
       "1992-06-01     7.261818     76.188   0.347656  \n",
       "1992-07-01     6.844545     79.816   0.399325  \n",
       "1992-08-01     6.585714     81.630   0.399833  "
      ]
     },
     "execution_count": 145,
     "metadata": {},
     "output_type": "execute_result"
    }
   ],
   "source": [
    "ts_ico.head(3)"
   ]
  },
  {
   "cell_type": "code",
   "execution_count": 146,
   "metadata": {},
   "outputs": [],
   "source": [
    "#exporting the file\n",
    "ts_ico.to_csv(r'C:\\Users\\homer\\Desktop\\dataset_updated.csv')"
   ]
  },
  {
   "cell_type": "code",
   "execution_count": null,
   "metadata": {},
   "outputs": [],
   "source": []
  }
 ],
 "metadata": {
  "kernelspec": {
   "display_name": "Python 3",
   "language": "python",
   "name": "python3"
  },
  "language_info": {
   "codemirror_mode": {
    "name": "ipython",
    "version": 3
   },
   "file_extension": ".py",
   "mimetype": "text/x-python",
   "name": "python",
   "nbconvert_exporter": "python",
   "pygments_lexer": "ipython3",
   "version": "3.7.1"
  }
 },
 "nbformat": 4,
 "nbformat_minor": 2
}
